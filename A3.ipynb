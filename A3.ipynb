{
  "cells": [
    {
      "cell_type": "markdown",
      "metadata": {
        "id": "5uZ7mk8Dqjov"
      },
      "source": [
        "# A3: Visualization for Exploratory Data Analysis"
      ]
    },
    {
      "cell_type": "markdown",
      "metadata": {
        "id": "PINSlcQVqjo1"
      },
      "source": [
        "* [Exploratory real estate data analysis](#EDA)\n",
        "* [Submission](#Submission)"
      ]
    },
    {
      "cell_type": "markdown",
      "metadata": {
        "id": "1pQhHlTLqjo1"
      },
      "source": [
        "## Background and Objective"
      ]
    },
    {
      "cell_type": "markdown",
      "metadata": {
        "id": "Y9TAwfdXqjo2"
      },
      "source": [
        "Effective use of graphs as visual representations of data is an important skill for a data scientist. [Lecture 3](https://sfu-db.github.io/bigdata-cmpt733/Lectures/lec3.pdf) gave you an introduction to principles of visualization design. In this assignment we will apply these principles when working with real-estate data.\n",
        "\n",
        "After completing this assignment, you should be able to use, create, and improve data plots to make them effective tools to find and carry messages from your data.\n",
        "We will perform visual data analysis using Python and gain experience with geospatial data."
      ]
    },
    {
      "cell_type": "markdown",
      "metadata": {
        "id": "KOYr-N3Sqjo2"
      },
      "source": [
        "### Further reading\n",
        "\n",
        "**Stephen Few, \"Show me the numbers - Designing Tables and Graphs to Enlighten\", (2nd Ed.), Analytics Press, 2012**\n",
        "\n",
        "In addition to the reference given in the lecture, Stephen Few's book \"Show me the Numbers\" is an excellent source on the principles of visual design for data analysis. Chapter 6 shows which types of graphs are suitable for different types of data and questions. Note that *marks* are called *value-encoding objects*.\n",
        "\n",
        "As further motivating example of how visualization can bring data to life and clear up misconceptions, consider to watch [Hans Rosling's famous TED talks](https://www.ted.com/playlists/474/the_best_hans_rosling_talks_yo), e.g. \"The best stat's you've ever seen\" from 2006.\n",
        "\n",
        "### Lab environment\n",
        "\n",
        "As with A1 and A2, the conda environment in the lab at location\n",
        "`/usr/shared/CMPT/big-data/condaenv/gt`\n",
        "has all dependencies for this assignment installed."
      ]
    },
    {
      "cell_type": "markdown",
      "metadata": {
        "id": "G1oMQMSuqjo3"
      },
      "source": [
        "## Real Estate EDA"
      ]
    },
    {
      "cell_type": "markdown",
      "metadata": {
        "id": "mwKwvbZHqjo3"
      },
      "source": [
        "**Real estate data**\n",
        "\n",
        "Imagine you are a data scientist working at a real-estate company. In this week, your job is to analyze Vancouver housing prices. First, inspect the dataset provided in [property_tax_report_2021.zip](property_tax_report_2021.zip). The dataset contains information on properties from BC Assessment (BCA) and City sources in 2021.\n",
        "You can find the schema information of the dataset from the [Vancouver Open Data Portal](https://opendata.vancouver.ca/explore/dataset/property-tax-report/information/).\n",
        "Familiarize yourself with the context and background info on that page before diving deeper into Exploratory Data Analysis."
      ]
    },
    {
      "cell_type": "markdown",
      "metadata": {
        "id": "43JvNOFGqjo4"
      },
      "source": [
        "We first load the data as a DataFrame. To make this analysis more interesting, we will add two new columns to the data: `CURRENT_PRICE` represents the property price in 2021; `PREVIOUS_PRICE` represents the property price in 2020."
      ]
    },
    {
      "cell_type": "code",
      "execution_count": 1,
      "metadata": {
        "id": "vHtKHcWLqjo6"
      },
      "outputs": [],
      "source": [
        "import pandas as pd\n",
        "import seaborn as sns\n",
        "import numpy as np\n",
        "import matplotlib.pyplot as plt\n",
        "from IPython.display import display, Markdown\n",
        "def displaymd(mdstr):\n",
        "    display(Markdown(mdstr))"
      ]
    },
    {
      "cell_type": "code",
      "execution_count": 9,
      "metadata": {
        "id": "z9KIxcHGqjo8"
      },
      "outputs": [],
      "source": [
        "\n",
        "# use this in case you have a hidpi display and figures appear blurry\n",
        "#%config InlineBackend.figure_format = 'retina'\n",
        "\n",
        "# before running this, unzip the provided data\n",
        "df = pd.read_csv(\"property_tax_report_2021.csv\", sep=';')\n",
        "\n",
        "df['CURRENT_PRICE'] = df.apply(lambda x: x['CURRENT_LAND_VALUE']+x['CURRENT_IMPROVEMENT_VALUE'], axis = 1)\n",
        "\n",
        "df['PREVIOUS_PRICE'] = df.apply(lambda x: x['PREVIOUS_LAND_VALUE']+x['PREVIOUS_IMPROVEMENT_VALUE'], axis = 1)\n"
      ]
    },
    {
      "cell_type": "markdown",
      "metadata": {
        "id": "Iwe-dIjMqjo9"
      },
      "source": [
        "Now let's start the EDA process. \n",
        "\n",
        "**Hint.** For some of the following questions, we provided an example plot (see [link](https://rawgit.com/sfu-db/bigdata-cmpt733/master/Assignments/A3/A3-plots.html)). But note that you do not have to use the same plot design. In fact, we didn't do a good job to follow the *Principles of Visualization Design* in the second half of the slides of [Lecture 3](https://sfu-db.github.io/bigdata-cmpt733/Lectures/lec3.pdf), please review this part by yourself.\n",
        "You should think about how to correct the bad designs in my plots."
      ]
    },
    {
      "cell_type": "markdown",
      "metadata": {
        "id": "c36mXcW8qjo9"
      },
      "source": [
        "### Question 1. Look at some example rows\n",
        "Print the first five rows of the data:"
      ]
    },
    {
      "cell_type": "code",
      "execution_count": 10,
      "metadata": {
        "colab": {
          "base_uri": "https://localhost:8080/",
          "height": 473
        },
        "id": "1h1sfPOoqjo-",
        "outputId": "73be91cd-9887-4636-e2b4-ed5a2eb94019"
      },
      "outputs": [
        {
          "data": {
            "text/html": [
              "\n",
              "  <div id=\"df-eacc3681-5b6e-4c55-8c84-8dbbd0ef0b93\">\n",
              "    <div class=\"colab-df-container\">\n",
              "      <div>\n",
              "<style scoped>\n",
              "    .dataframe tbody tr th:only-of-type {\n",
              "        vertical-align: middle;\n",
              "    }\n",
              "\n",
              "    .dataframe tbody tr th {\n",
              "        vertical-align: top;\n",
              "    }\n",
              "\n",
              "    .dataframe thead th {\n",
              "        text-align: right;\n",
              "    }\n",
              "</style>\n",
              "<table border=\"1\" class=\"dataframe\">\n",
              "  <thead>\n",
              "    <tr style=\"text-align: right;\">\n",
              "      <th></th>\n",
              "      <th>PID</th>\n",
              "      <th>LEGAL_TYPE</th>\n",
              "      <th>FOLIO</th>\n",
              "      <th>LAND_COORDINATE</th>\n",
              "      <th>ZONING_DISTRICT</th>\n",
              "      <th>ZONING_CLASSIFICATION</th>\n",
              "      <th>LOT</th>\n",
              "      <th>PLAN</th>\n",
              "      <th>BLOCK</th>\n",
              "      <th>DISTRICT_LOT</th>\n",
              "      <th>...</th>\n",
              "      <th>TAX_ASSESSMENT_YEAR</th>\n",
              "      <th>PREVIOUS_LAND_VALUE</th>\n",
              "      <th>PREVIOUS_IMPROVEMENT_VALUE</th>\n",
              "      <th>YEAR_BUILT</th>\n",
              "      <th>BIG_IMPROVEMENT_YEAR</th>\n",
              "      <th>TAX_LEVY</th>\n",
              "      <th>NEIGHBOURHOOD_CODE</th>\n",
              "      <th>REPORT_YEAR</th>\n",
              "      <th>CURRENT_PRICE</th>\n",
              "      <th>PREVIOUS_PRICE</th>\n",
              "    </tr>\n",
              "  </thead>\n",
              "  <tbody>\n",
              "    <tr>\n",
              "      <th>0</th>\n",
              "      <td>002-582-759</td>\n",
              "      <td>STRATA</td>\n",
              "      <td>90717090036</td>\n",
              "      <td>9071709</td>\n",
              "      <td>CD-1 (94)</td>\n",
              "      <td>Comprehensive Development</td>\n",
              "      <td>36</td>\n",
              "      <td>VAS452</td>\n",
              "      <td>NaN</td>\n",
              "      <td>526</td>\n",
              "      <td>...</td>\n",
              "      <td>2021.0</td>\n",
              "      <td>1015000.0</td>\n",
              "      <td>115000.0</td>\n",
              "      <td>1977.0</td>\n",
              "      <td>1977.0</td>\n",
              "      <td>3644.37</td>\n",
              "      <td>4</td>\n",
              "      <td>2021</td>\n",
              "      <td>1247000.0</td>\n",
              "      <td>1130000.0</td>\n",
              "    </tr>\n",
              "    <tr>\n",
              "      <th>1</th>\n",
              "      <td>010-772-278</td>\n",
              "      <td>LAND</td>\n",
              "      <td>692077380000</td>\n",
              "      <td>69207738</td>\n",
              "      <td>RS-1</td>\n",
              "      <td>One-Family Dwelling</td>\n",
              "      <td>22</td>\n",
              "      <td>VAP6923</td>\n",
              "      <td>511</td>\n",
              "      <td>526</td>\n",
              "      <td>...</td>\n",
              "      <td>2021.0</td>\n",
              "      <td>2759000.0</td>\n",
              "      <td>463000.0</td>\n",
              "      <td>1991.0</td>\n",
              "      <td>1991.0</td>\n",
              "      <td>12528.80</td>\n",
              "      <td>4</td>\n",
              "      <td>2021</td>\n",
              "      <td>3421000.0</td>\n",
              "      <td>3222000.0</td>\n",
              "    </tr>\n",
              "    <tr>\n",
              "      <th>2</th>\n",
              "      <td>009-746-986</td>\n",
              "      <td>LAND</td>\n",
              "      <td>79715270000</td>\n",
              "      <td>7971527</td>\n",
              "      <td>RS-1</td>\n",
              "      <td>One-Family Dwelling</td>\n",
              "      <td>8</td>\n",
              "      <td>VAP9119</td>\n",
              "      <td>560</td>\n",
              "      <td>526</td>\n",
              "      <td>...</td>\n",
              "      <td>2021.0</td>\n",
              "      <td>2958000.0</td>\n",
              "      <td>278000.0</td>\n",
              "      <td>1955.0</td>\n",
              "      <td>1975.0</td>\n",
              "      <td>11602.60</td>\n",
              "      <td>4</td>\n",
              "      <td>2021</td>\n",
              "      <td>3488000.0</td>\n",
              "      <td>3236000.0</td>\n",
              "    </tr>\n",
              "    <tr>\n",
              "      <th>3</th>\n",
              "      <td>008-199-809</td>\n",
              "      <td>LAND</td>\n",
              "      <td>742030860000</td>\n",
              "      <td>74203086</td>\n",
              "      <td>RS-5</td>\n",
              "      <td>One-Family Dwelling</td>\n",
              "      <td>12</td>\n",
              "      <td>VAP5959</td>\n",
              "      <td>18</td>\n",
              "      <td>2027</td>\n",
              "      <td>...</td>\n",
              "      <td>2021.0</td>\n",
              "      <td>3204000.0</td>\n",
              "      <td>521000.0</td>\n",
              "      <td>1989.0</td>\n",
              "      <td>1989.0</td>\n",
              "      <td>15046.20</td>\n",
              "      <td>3</td>\n",
              "      <td>2021</td>\n",
              "      <td>3920000.0</td>\n",
              "      <td>3725000.0</td>\n",
              "    </tr>\n",
              "    <tr>\n",
              "      <th>4</th>\n",
              "      <td>004-429-435</td>\n",
              "      <td>LAND</td>\n",
              "      <td>723032140000</td>\n",
              "      <td>72303214</td>\n",
              "      <td>RS-5</td>\n",
              "      <td>One-Family Dwelling</td>\n",
              "      <td>32</td>\n",
              "      <td>VAP4499</td>\n",
              "      <td>60</td>\n",
              "      <td>2027</td>\n",
              "      <td>...</td>\n",
              "      <td>2021.0</td>\n",
              "      <td>2720000.0</td>\n",
              "      <td>256000.0</td>\n",
              "      <td>1986.0</td>\n",
              "      <td>1986.0</td>\n",
              "      <td>11135.00</td>\n",
              "      <td>3</td>\n",
              "      <td>2021</td>\n",
              "      <td>3122000.0</td>\n",
              "      <td>2976000.0</td>\n",
              "    </tr>\n",
              "  </tbody>\n",
              "</table>\n",
              "<p>5 rows × 31 columns</p>\n",
              "</div>\n",
              "      <button class=\"colab-df-convert\" onclick=\"convertToInteractive('df-eacc3681-5b6e-4c55-8c84-8dbbd0ef0b93')\"\n",
              "              title=\"Convert this dataframe to an interactive table.\"\n",
              "              style=\"display:none;\">\n",
              "        \n",
              "  <svg xmlns=\"http://www.w3.org/2000/svg\" height=\"24px\"viewBox=\"0 0 24 24\"\n",
              "       width=\"24px\">\n",
              "    <path d=\"M0 0h24v24H0V0z\" fill=\"none\"/>\n",
              "    <path d=\"M18.56 5.44l.94 2.06.94-2.06 2.06-.94-2.06-.94-.94-2.06-.94 2.06-2.06.94zm-11 1L8.5 8.5l.94-2.06 2.06-.94-2.06-.94L8.5 2.5l-.94 2.06-2.06.94zm10 10l.94 2.06.94-2.06 2.06-.94-2.06-.94-.94-2.06-.94 2.06-2.06.94z\"/><path d=\"M17.41 7.96l-1.37-1.37c-.4-.4-.92-.59-1.43-.59-.52 0-1.04.2-1.43.59L10.3 9.45l-7.72 7.72c-.78.78-.78 2.05 0 2.83L4 21.41c.39.39.9.59 1.41.59.51 0 1.02-.2 1.41-.59l7.78-7.78 2.81-2.81c.8-.78.8-2.07 0-2.86zM5.41 20L4 18.59l7.72-7.72 1.47 1.35L5.41 20z\"/>\n",
              "  </svg>\n",
              "      </button>\n",
              "      \n",
              "  <style>\n",
              "    .colab-df-container {\n",
              "      display:flex;\n",
              "      flex-wrap:wrap;\n",
              "      gap: 12px;\n",
              "    }\n",
              "\n",
              "    .colab-df-convert {\n",
              "      background-color: #E8F0FE;\n",
              "      border: none;\n",
              "      border-radius: 50%;\n",
              "      cursor: pointer;\n",
              "      display: none;\n",
              "      fill: #1967D2;\n",
              "      height: 32px;\n",
              "      padding: 0 0 0 0;\n",
              "      width: 32px;\n",
              "    }\n",
              "\n",
              "    .colab-df-convert:hover {\n",
              "      background-color: #E2EBFA;\n",
              "      box-shadow: 0px 1px 2px rgba(60, 64, 67, 0.3), 0px 1px 3px 1px rgba(60, 64, 67, 0.15);\n",
              "      fill: #174EA6;\n",
              "    }\n",
              "\n",
              "    [theme=dark] .colab-df-convert {\n",
              "      background-color: #3B4455;\n",
              "      fill: #D2E3FC;\n",
              "    }\n",
              "\n",
              "    [theme=dark] .colab-df-convert:hover {\n",
              "      background-color: #434B5C;\n",
              "      box-shadow: 0px 1px 3px 1px rgba(0, 0, 0, 0.15);\n",
              "      filter: drop-shadow(0px 1px 2px rgba(0, 0, 0, 0.3));\n",
              "      fill: #FFFFFF;\n",
              "    }\n",
              "  </style>\n",
              "\n",
              "      <script>\n",
              "        const buttonEl =\n",
              "          document.querySelector('#df-eacc3681-5b6e-4c55-8c84-8dbbd0ef0b93 button.colab-df-convert');\n",
              "        buttonEl.style.display =\n",
              "          google.colab.kernel.accessAllowed ? 'block' : 'none';\n",
              "\n",
              "        async function convertToInteractive(key) {\n",
              "          const element = document.querySelector('#df-eacc3681-5b6e-4c55-8c84-8dbbd0ef0b93');\n",
              "          const dataTable =\n",
              "            await google.colab.kernel.invokeFunction('convertToInteractive',\n",
              "                                                     [key], {});\n",
              "          if (!dataTable) return;\n",
              "\n",
              "          const docLinkHtml = 'Like what you see? Visit the ' +\n",
              "            '<a target=\"_blank\" href=https://colab.research.google.com/notebooks/data_table.ipynb>data table notebook</a>'\n",
              "            + ' to learn more about interactive tables.';\n",
              "          element.innerHTML = '';\n",
              "          dataTable['output_type'] = 'display_data';\n",
              "          await google.colab.output.renderOutput(dataTable, element);\n",
              "          const docLink = document.createElement('div');\n",
              "          docLink.innerHTML = docLinkHtml;\n",
              "          element.appendChild(docLink);\n",
              "        }\n",
              "      </script>\n",
              "    </div>\n",
              "  </div>\n",
              "  "
            ],
            "text/plain": [
              "           PID LEGAL_TYPE         FOLIO  LAND_COORDINATE ZONING_DISTRICT  \\\n",
              "0  002-582-759     STRATA   90717090036          9071709       CD-1 (94)   \n",
              "1  010-772-278       LAND  692077380000         69207738            RS-1   \n",
              "2  009-746-986       LAND   79715270000          7971527            RS-1   \n",
              "3  008-199-809       LAND  742030860000         74203086            RS-5   \n",
              "4  004-429-435       LAND  723032140000         72303214            RS-5   \n",
              "\n",
              "       ZONING_CLASSIFICATION LOT     PLAN BLOCK DISTRICT_LOT  ...  \\\n",
              "0  Comprehensive Development  36   VAS452   NaN          526  ...   \n",
              "1        One-Family Dwelling  22  VAP6923   511          526  ...   \n",
              "2        One-Family Dwelling   8  VAP9119   560          526  ...   \n",
              "3        One-Family Dwelling  12  VAP5959    18         2027  ...   \n",
              "4        One-Family Dwelling  32  VAP4499    60         2027  ...   \n",
              "\n",
              "  TAX_ASSESSMENT_YEAR  PREVIOUS_LAND_VALUE PREVIOUS_IMPROVEMENT_VALUE  \\\n",
              "0              2021.0            1015000.0                   115000.0   \n",
              "1              2021.0            2759000.0                   463000.0   \n",
              "2              2021.0            2958000.0                   278000.0   \n",
              "3              2021.0            3204000.0                   521000.0   \n",
              "4              2021.0            2720000.0                   256000.0   \n",
              "\n",
              "  YEAR_BUILT BIG_IMPROVEMENT_YEAR  TAX_LEVY NEIGHBOURHOOD_CODE REPORT_YEAR  \\\n",
              "0     1977.0               1977.0   3644.37                  4        2021   \n",
              "1     1991.0               1991.0  12528.80                  4        2021   \n",
              "2     1955.0               1975.0  11602.60                  4        2021   \n",
              "3     1989.0               1989.0  15046.20                  3        2021   \n",
              "4     1986.0               1986.0  11135.00                  3        2021   \n",
              "\n",
              "  CURRENT_PRICE  PREVIOUS_PRICE  \n",
              "0     1247000.0       1130000.0  \n",
              "1     3421000.0       3222000.0  \n",
              "2     3488000.0       3236000.0  \n",
              "3     3920000.0       3725000.0  \n",
              "4     3122000.0       2976000.0  \n",
              "\n",
              "[5 rows x 31 columns]"
            ]
          },
          "execution_count": 10,
          "metadata": {},
          "output_type": "execute_result"
        }
      ],
      "source": [
        "# --- Write your code below ---\n",
        "df.head(5)"
      ]
    },
    {
      "cell_type": "markdown",
      "metadata": {
        "id": "2yD7Xmvzqjo-"
      },
      "source": [
        "### Question 2. Get summary statistics"
      ]
    },
    {
      "cell_type": "markdown",
      "metadata": {
        "id": "00JZMlYEqjo_"
      },
      "source": [
        "From the above output, you will know that the data has 28 columns. Please use the describe() function to get the summary statistics of each column.\n",
        "Also, to improve readability use a pandas [DataFrame Styler](https://pandas.pydata.org/pandas-docs/stable/user_guide/style.html) to format the numbers without scientific notation (i.e. no floating point exponent)."
      ]
    },
    {
      "cell_type": "code",
      "execution_count": 11,
      "metadata": {
        "colab": {
          "base_uri": "https://localhost:8080/",
          "height": 320
        },
        "id": "372i_zHmqjo_",
        "outputId": "1c73db29-30f4-4a9d-e798-6b193e637938"
      },
      "outputs": [
        {
          "data": {
            "text/html": [
              "<style type=\"text/css\">\n",
              "</style>\n",
              "<table id=\"T_f3741_\" class=\"dataframe\">\n",
              "  <thead>\n",
              "    <tr>\n",
              "      <th class=\"blank level0\" >&nbsp;</th>\n",
              "      <th class=\"col_heading level0 col0\" >FOLIO</th>\n",
              "      <th class=\"col_heading level0 col1\" >LAND_COORDINATE</th>\n",
              "      <th class=\"col_heading level0 col2\" >TO_CIVIC_NUMBER</th>\n",
              "      <th class=\"col_heading level0 col3\" >CURRENT_LAND_VALUE</th>\n",
              "      <th class=\"col_heading level0 col4\" >CURRENT_IMPROVEMENT_VALUE</th>\n",
              "      <th class=\"col_heading level0 col5\" >TAX_ASSESSMENT_YEAR</th>\n",
              "      <th class=\"col_heading level0 col6\" >PREVIOUS_LAND_VALUE</th>\n",
              "      <th class=\"col_heading level0 col7\" >PREVIOUS_IMPROVEMENT_VALUE</th>\n",
              "      <th class=\"col_heading level0 col8\" >YEAR_BUILT</th>\n",
              "      <th class=\"col_heading level0 col9\" >BIG_IMPROVEMENT_YEAR</th>\n",
              "      <th class=\"col_heading level0 col10\" >TAX_LEVY</th>\n",
              "      <th class=\"col_heading level0 col11\" >NEIGHBOURHOOD_CODE</th>\n",
              "      <th class=\"col_heading level0 col12\" >REPORT_YEAR</th>\n",
              "      <th class=\"col_heading level0 col13\" >CURRENT_PRICE</th>\n",
              "      <th class=\"col_heading level0 col14\" >PREVIOUS_PRICE</th>\n",
              "    </tr>\n",
              "  </thead>\n",
              "  <tbody>\n",
              "    <tr>\n",
              "      <th id=\"T_f3741_level0_row0\" class=\"row_heading level0 row0\" >count</th>\n",
              "      <td id=\"T_f3741_row0_col0\" class=\"data row0 col0\" >650847.000000</td>\n",
              "      <td id=\"T_f3741_row0_col1\" class=\"data row0 col1\" >650847.000000</td>\n",
              "      <td id=\"T_f3741_row0_col2\" class=\"data row0 col2\" >649178.000000</td>\n",
              "      <td id=\"T_f3741_row0_col3\" class=\"data row0 col3\" >642149.000000</td>\n",
              "      <td id=\"T_f3741_row0_col4\" class=\"data row0 col4\" >642149.000000</td>\n",
              "      <td id=\"T_f3741_row0_col5\" class=\"data row0 col5\" >642149.000000</td>\n",
              "      <td id=\"T_f3741_row0_col6\" class=\"data row0 col6\" >634890.000000</td>\n",
              "      <td id=\"T_f3741_row0_col7\" class=\"data row0 col7\" >634890.000000</td>\n",
              "      <td id=\"T_f3741_row0_col8\" class=\"data row0 col8\" >622538.000000</td>\n",
              "      <td id=\"T_f3741_row0_col9\" class=\"data row0 col9\" >622538.000000</td>\n",
              "      <td id=\"T_f3741_row0_col10\" class=\"data row0 col10\" >426393.000000</td>\n",
              "      <td id=\"T_f3741_row0_col11\" class=\"data row0 col11\" >650847.000000</td>\n",
              "      <td id=\"T_f3741_row0_col12\" class=\"data row0 col12\" >650847.000000</td>\n",
              "      <td id=\"T_f3741_row0_col13\" class=\"data row0 col13\" >642149.000000</td>\n",
              "      <td id=\"T_f3741_row0_col14\" class=\"data row0 col14\" >634890.000000</td>\n",
              "    </tr>\n",
              "    <tr>\n",
              "      <th id=\"T_f3741_level0_row1\" class=\"row_heading level0 row1\" >mean</th>\n",
              "      <td id=\"T_f3741_row1_col0\" class=\"data row1 col0\" >498730471748.075012</td>\n",
              "      <td id=\"T_f3741_row1_col1\" class=\"data row1 col1\" >49873047.169329</td>\n",
              "      <td id=\"T_f3741_row1_col2\" class=\"data row1 col2\" >2381.413236</td>\n",
              "      <td id=\"T_f3741_row1_col3\" class=\"data row1 col3\" >1709920.158940</td>\n",
              "      <td id=\"T_f3741_row1_col4\" class=\"data row1 col4\" >436541.995644</td>\n",
              "      <td id=\"T_f3741_row1_col5\" class=\"data row1 col5\" >2021.005609</td>\n",
              "      <td id=\"T_f3741_row1_col6\" class=\"data row1 col6\" >1714975.895171</td>\n",
              "      <td id=\"T_f3741_row1_col7\" class=\"data row1 col7\" >408908.716291</td>\n",
              "      <td id=\"T_f3741_row1_col8\" class=\"data row1 col8\" >1983.351845</td>\n",
              "      <td id=\"T_f3741_row1_col9\" class=\"data row1 col9\" >1990.931188</td>\n",
              "      <td id=\"T_f3741_row1_col10\" class=\"data row1 col10\" >8356.715802</td>\n",
              "      <td id=\"T_f3741_row1_col11\" class=\"data row1 col11\" >16.537994</td>\n",
              "      <td id=\"T_f3741_row1_col12\" class=\"data row1 col12\" >2021.005284</td>\n",
              "      <td id=\"T_f3741_row1_col13\" class=\"data row1 col13\" >2146462.154584</td>\n",
              "      <td id=\"T_f3741_row1_col14\" class=\"data row1 col14\" >2123884.611462</td>\n",
              "    </tr>\n",
              "    <tr>\n",
              "      <th id=\"T_f3741_level0_row2\" class=\"row_heading level0 row2\" >std</th>\n",
              "      <td id=\"T_f3741_row2_col0\" class=\"data row2 col0\" >249280578035.747650</td>\n",
              "      <td id=\"T_f3741_row2_col1\" class=\"data row2 col1\" >24928057.805017</td>\n",
              "      <td id=\"T_f3741_row2_col2\" class=\"data row2 col2\" >1989.219653</td>\n",
              "      <td id=\"T_f3741_row2_col3\" class=\"data row2 col3\" >9876736.004276</td>\n",
              "      <td id=\"T_f3741_row2_col4\" class=\"data row2 col4\" >4424333.362898</td>\n",
              "      <td id=\"T_f3741_row2_col5\" class=\"data row2 col5\" >0.816881</td>\n",
              "      <td id=\"T_f3741_row2_col6\" class=\"data row2 col6\" >9868571.450751</td>\n",
              "      <td id=\"T_f3741_row2_col7\" class=\"data row2 col7\" >4087834.806899</td>\n",
              "      <td id=\"T_f3741_row2_col8\" class=\"data row2 col8\" >29.628813</td>\n",
              "      <td id=\"T_f3741_row2_col9\" class=\"data row2 col9\" >19.488447</td>\n",
              "      <td id=\"T_f3741_row2_col10\" class=\"data row2 col10\" >57341.149605</td>\n",
              "      <td id=\"T_f3741_row2_col11\" class=\"data row2 col11\" >8.954624</td>\n",
              "      <td id=\"T_f3741_row2_col12\" class=\"data row2 col12\" >0.815677</td>\n",
              "      <td id=\"T_f3741_row2_col13\" class=\"data row2 col13\" >12132261.011504</td>\n",
              "      <td id=\"T_f3741_row2_col14\" class=\"data row2 col14\" >11923651.164562</td>\n",
              "    </tr>\n",
              "    <tr>\n",
              "      <th id=\"T_f3741_level0_row3\" class=\"row_heading level0 row3\" >min</th>\n",
              "      <td id=\"T_f3741_row3_col0\" class=\"data row3 col0\" >19632060000.000000</td>\n",
              "      <td id=\"T_f3741_row3_col1\" class=\"data row3 col1\" >1963206.000000</td>\n",
              "      <td id=\"T_f3741_row3_col2\" class=\"data row3 col2\" >1.000000</td>\n",
              "      <td id=\"T_f3741_row3_col3\" class=\"data row3 col3\" >0.000000</td>\n",
              "      <td id=\"T_f3741_row3_col4\" class=\"data row3 col4\" >0.000000</td>\n",
              "      <td id=\"T_f3741_row3_col5\" class=\"data row3 col5\" >2020.000000</td>\n",
              "      <td id=\"T_f3741_row3_col6\" class=\"data row3 col6\" >0.000000</td>\n",
              "      <td id=\"T_f3741_row3_col7\" class=\"data row3 col7\" >0.000000</td>\n",
              "      <td id=\"T_f3741_row3_col8\" class=\"data row3 col8\" >1800.000000</td>\n",
              "      <td id=\"T_f3741_row3_col9\" class=\"data row3 col9\" >200.000000</td>\n",
              "      <td id=\"T_f3741_row3_col10\" class=\"data row3 col10\" >0.000000</td>\n",
              "      <td id=\"T_f3741_row3_col11\" class=\"data row3 col11\" >1.000000</td>\n",
              "      <td id=\"T_f3741_row3_col12\" class=\"data row3 col12\" >2020.000000</td>\n",
              "      <td id=\"T_f3741_row3_col13\" class=\"data row3 col13\" >0.000000</td>\n",
              "      <td id=\"T_f3741_row3_col14\" class=\"data row3 col14\" >0.000000</td>\n",
              "    </tr>\n",
              "    <tr>\n",
              "      <th id=\"T_f3741_level0_row4\" class=\"row_heading level0 row4\" >25%</th>\n",
              "      <td id=\"T_f3741_row4_col0\" class=\"data row4 col0\" >210710030034.000000</td>\n",
              "      <td id=\"T_f3741_row4_col1\" class=\"data row4 col1\" >21071003.000000</td>\n",
              "      <td id=\"T_f3741_row4_col2\" class=\"data row4 col2\" >939.000000</td>\n",
              "      <td id=\"T_f3741_row4_col3\" class=\"data row4 col3\" >481000.000000</td>\n",
              "      <td id=\"T_f3741_row4_col4\" class=\"data row4 col4\" >101000.000000</td>\n",
              "      <td id=\"T_f3741_row4_col5\" class=\"data row4 col5\" >2020.000000</td>\n",
              "      <td id=\"T_f3741_row4_col6\" class=\"data row4 col6\" >480000.000000</td>\n",
              "      <td id=\"T_f3741_row4_col7\" class=\"data row4 col7\" >97200.000000</td>\n",
              "      <td id=\"T_f3741_row4_col8\" class=\"data row4 col8\" >1972.000000</td>\n",
              "      <td id=\"T_f3741_row4_col9\" class=\"data row4 col9\" >1980.000000</td>\n",
              "      <td id=\"T_f3741_row4_col10\" class=\"data row4 col10\" >1911.310000</td>\n",
              "      <td id=\"T_f3741_row4_col11\" class=\"data row4 col11\" >9.000000</td>\n",
              "      <td id=\"T_f3741_row4_col12\" class=\"data row4 col12\" >2020.000000</td>\n",
              "      <td id=\"T_f3741_row4_col13\" class=\"data row4 col13\" >669000.000000</td>\n",
              "      <td id=\"T_f3741_row4_col14\" class=\"data row4 col14\" >664000.000000</td>\n",
              "    </tr>\n",
              "    <tr>\n",
              "      <th id=\"T_f3741_level0_row5\" class=\"row_heading level0 row5\" >50%</th>\n",
              "      <td id=\"T_f3741_row5_col0\" class=\"data row5 col0\" >612275650000.000000</td>\n",
              "      <td id=\"T_f3741_row5_col1\" class=\"data row5 col1\" >61227565.000000</td>\n",
              "      <td id=\"T_f3741_row5_col2\" class=\"data row5 col2\" >1777.000000</td>\n",
              "      <td id=\"T_f3741_row5_col3\" class=\"data row5 col3\" >956000.000000</td>\n",
              "      <td id=\"T_f3741_row5_col4\" class=\"data row5 col4\" >193000.000000</td>\n",
              "      <td id=\"T_f3741_row5_col5\" class=\"data row5 col5\" >2021.000000</td>\n",
              "      <td id=\"T_f3741_row5_col6\" class=\"data row5 col6\" >963000.000000</td>\n",
              "      <td id=\"T_f3741_row5_col7\" class=\"data row5 col7\" >186000.000000</td>\n",
              "      <td id=\"T_f3741_row5_col8\" class=\"data row5 col8\" >1993.000000</td>\n",
              "      <td id=\"T_f3741_row5_col9\" class=\"data row5 col9\" >1994.000000</td>\n",
              "      <td id=\"T_f3741_row5_col10\" class=\"data row5 col10\" >3926.260000</td>\n",
              "      <td id=\"T_f3741_row5_col11\" class=\"data row5 col11\" >16.000000</td>\n",
              "      <td id=\"T_f3741_row5_col12\" class=\"data row5 col12\" >2021.000000</td>\n",
              "      <td id=\"T_f3741_row5_col13\" class=\"data row5 col13\" >1183000.000000</td>\n",
              "      <td id=\"T_f3741_row5_col14\" class=\"data row5 col14\" >1178000.000000</td>\n",
              "    </tr>\n",
              "    <tr>\n",
              "      <th id=\"T_f3741_level0_row6\" class=\"row_heading level0 row6\" >75%</th>\n",
              "      <td id=\"T_f3741_row6_col0\" class=\"data row6 col0\" >690033505000.000000</td>\n",
              "      <td id=\"T_f3741_row6_col1\" class=\"data row6 col1\" >69003350.500000</td>\n",
              "      <td id=\"T_f3741_row6_col2\" class=\"data row6 col2\" >3336.000000</td>\n",
              "      <td id=\"T_f3741_row6_col3\" class=\"data row6 col3\" >1576000.000000</td>\n",
              "      <td id=\"T_f3741_row6_col4\" class=\"data row6 col4\" >317000.000000</td>\n",
              "      <td id=\"T_f3741_row6_col5\" class=\"data row6 col5\" >2022.000000</td>\n",
              "      <td id=\"T_f3741_row6_col6\" class=\"data row6 col6\" >1516000.000000</td>\n",
              "      <td id=\"T_f3741_row6_col7\" class=\"data row6 col7\" >305000.000000</td>\n",
              "      <td id=\"T_f3741_row6_col8\" class=\"data row6 col8\" >2005.000000</td>\n",
              "      <td id=\"T_f3741_row6_col9\" class=\"data row6 col9\" >2005.000000</td>\n",
              "      <td id=\"T_f3741_row6_col10\" class=\"data row6 col10\" >6589.010000</td>\n",
              "      <td id=\"T_f3741_row6_col11\" class=\"data row6 col11\" >25.000000</td>\n",
              "      <td id=\"T_f3741_row6_col12\" class=\"data row6 col12\" >2022.000000</td>\n",
              "      <td id=\"T_f3741_row6_col13\" class=\"data row6 col13\" >1872000.000000</td>\n",
              "      <td id=\"T_f3741_row6_col14\" class=\"data row6 col14\" >1803000.000000</td>\n",
              "    </tr>\n",
              "    <tr>\n",
              "      <th id=\"T_f3741_level0_row7\" class=\"row_heading level0 row7\" >max</th>\n",
              "      <td id=\"T_f3741_row7_col0\" class=\"data row7 col0\" >845313420000.000000</td>\n",
              "      <td id=\"T_f3741_row7_col1\" class=\"data row7 col1\" >84531342.000000</td>\n",
              "      <td id=\"T_f3741_row7_col2\" class=\"data row7 col2\" >31888.000000</td>\n",
              "      <td id=\"T_f3741_row7_col3\" class=\"data row7 col3\" >3488433000.000000</td>\n",
              "      <td id=\"T_f3741_row7_col4\" class=\"data row7 col4\" >693426000.000000</td>\n",
              "      <td id=\"T_f3741_row7_col5\" class=\"data row7 col5\" >2022.000000</td>\n",
              "      <td id=\"T_f3741_row7_col6\" class=\"data row7 col6\" >3165054000.000000</td>\n",
              "      <td id=\"T_f3741_row7_col7\" class=\"data row7 col7\" >652775000.000000</td>\n",
              "      <td id=\"T_f3741_row7_col8\" class=\"data row7 col8\" >2019.000000</td>\n",
              "      <td id=\"T_f3741_row7_col9\" class=\"data row7 col9\" >2019.000000</td>\n",
              "      <td id=\"T_f3741_row7_col10\" class=\"data row7 col10\" >8621182.000000</td>\n",
              "      <td id=\"T_f3741_row7_col11\" class=\"data row7 col11\" >30.000000</td>\n",
              "      <td id=\"T_f3741_row7_col12\" class=\"data row7 col12\" >2022.000000</td>\n",
              "      <td id=\"T_f3741_row7_col13\" class=\"data row7 col13\" >3496582000.000000</td>\n",
              "      <td id=\"T_f3741_row7_col14\" class=\"data row7 col14\" >3172855000.000000</td>\n",
              "    </tr>\n",
              "  </tbody>\n",
              "</table>\n"
            ],
            "text/plain": [
              "<pandas.io.formats.style.Styler at 0x7f2edab3a3a0>"
            ]
          },
          "execution_count": 11,
          "metadata": {},
          "output_type": "execute_result"
        }
      ],
      "source": [
        "# --- Write your code below ---\n",
        "df.describe().style"
      ]
    },
    {
      "cell_type": "markdown",
      "metadata": {
        "id": "54iftuhsqjo_"
      },
      "source": [
        "Please look at the above output carefully, and make sure that you understand the meanings of each row (e.g., std, 25% percentile)."
      ]
    },
    {
      "cell_type": "markdown",
      "metadata": {
        "id": "jShAalIrqjo_"
      },
      "source": [
        "### Question 3. Examine missing values"
      ]
    },
    {
      "cell_type": "markdown",
      "metadata": {
        "id": "G2cEpJKkqjpA"
      },
      "source": [
        "Now we are going to perform EDA on a single column (i.e., univariate analysis). We chose `YEAR_BUILT`, which represents in which year a property was built.  We first check whether the column has any missing value. "
      ]
    },
    {
      "cell_type": "code",
      "execution_count": 12,
      "metadata": {
        "colab": {
          "base_uri": "https://localhost:8080/"
        },
        "id": "5o6LGkE6qjpA",
        "outputId": "cfaa8ceb-5a7e-4b18-fd1e-60d3c9039a54",
        "scrolled": true
      },
      "outputs": [
        {
          "name": "stdout",
          "output_type": "stream",
          "text": [
            "Missing Value: 4.35 %\n"
          ]
        }
      ],
      "source": [
        "# --- Write your code below ---\n",
        "# Print the percentage of the rows whose YEAR_BUILT is missing.\n",
        "\n",
        "mean = np.mean(df['YEAR_BUILT'].isna())\n",
        "#print(mean)\n",
        "\n",
        "raw = round(np.mean(df['YEAR_BUILT'].isna()),4)\n",
        "#print(raw)\n",
        "print(\"Missing Value: \" + str(raw*100) + ' %')"
      ]
    },
    {
      "cell_type": "markdown",
      "metadata": {
        "id": "q4B7MYedqjpB"
      },
      "source": [
        "Missing values are very common in real-world datasets. In practice, you should always be aware of the impact of the missing values on your downstream analysis results."
      ]
    },
    {
      "cell_type": "markdown",
      "metadata": {
        "id": "rX5tBJ-mqjpC"
      },
      "source": [
        "### Question 4.  Plot a line chart"
      ]
    },
    {
      "cell_type": "markdown",
      "metadata": {
        "id": "KjI3aunWqjpD"
      },
      "source": [
        "We now start investigating the values in the `YEAR_BUILT` column.  Suppose we want to know: \"How many properties were built in each year (from 1990 to 2018)?\" Please plot a line chart to answer the question."
      ]
    },
    {
      "cell_type": "code",
      "execution_count": 13,
      "metadata": {
        "colab": {
          "base_uri": "https://localhost:8080/",
          "height": 303
        },
        "id": "Hg09PoJbqjpD",
        "outputId": "8d1bc762-d32c-4faa-90a1-06f24e0424d4",
        "scrolled": true
      },
      "outputs": [
        {
          "data": {
            "text/plain": [
              "(1900.0, 2018.0)"
            ]
          },
          "execution_count": 13,
          "metadata": {},
          "output_type": "execute_result"
        },
        {
          "data": {
            "image/png": "[encoded data removed]",
            "text/plain": [
              "<Figure size 1080x288 with 1 Axes>"
            ]
          },
          "metadata": {
            "needs_background": "light"
          },
          "output_type": "display_data"
        }
      ],
      "source": [
        "# --- Write your code below ---\n",
        "df_temp = pd.DataFrame()\n",
        "df_temp['YEAR_BUILT'] = df['YEAR_BUILT'].value_counts()\n",
        "#print(df_temp)\n",
        "df_temp['YEAR_BUILT'] = df['YEAR_BUILT'].value_counts().index\n",
        "#print(df_temp)\n",
        "df_temp['# of Properties'] =  df['YEAR_BUILT'].value_counts()\n",
        "#print(df_temp)\n",
        "df_temp['# of Properties'] =  df['YEAR_BUILT'].value_counts().values\n",
        "#print(df_temp)\n",
        "df_temp['YEAR_BUILT'] = df_temp['YEAR_BUILT'].apply(lambda x:(round(x)))\n",
        "plt.figure(figsize=(15, 4))\n",
        "\n",
        "sns.set(style='whitegrid',context='notebook')\n",
        "sns.lineplot(data=df_temp, x=\"YEAR_BUILT\", y=\"# of Properties\")\n",
        "\n",
        "plt.xlim(1900, 2018)\n",
        "#plt.ylim(0, 10000)"
      ]
    },
    {
      "cell_type": "markdown",
      "metadata": {
        "id": "ThuMOkXAqjpD"
      },
      "source": [
        "Please write down the **two** most interesting findings that you draw from the plot. For example, you can say: <font color='blue'>\"Vancouver has about 6300 properties built in 1996 alone, which is more than any other year\"</font>.\n",
        "\n",
        "**Findings**\n",
        "1. The yearly maximum properties in Vancouver is approximately up to 20000.\n",
        "2. The properties in 1912 in Vancouver is compatible to its 1990s level, and the amount is 11451."
      ]
    },
    {
      "cell_type": "markdown",
      "metadata": {
        "id": "GqmdoFJkqjpD"
      },
      "source": [
        "### Question 5. Plot a bar chart"
      ]
    },
    {
      "cell_type": "markdown",
      "metadata": {
        "id": "imc94YSiqjpD"
      },
      "source": [
        "Next, we want to find that, between 1900 and 2021, which years have the most number of properties been built? Plot a bar chart to show the top 20 years. "
      ]
    },
    {
      "cell_type": "code",
      "execution_count": 14,
      "metadata": {
        "colab": {
          "base_uri": "https://localhost:8080/",
          "height": 303
        },
        "id": "cT4453phqjpE",
        "outputId": "b68b2ba8-1cdc-43af-8c22-609f4833d774",
        "scrolled": true
      },
      "outputs": [
        {
          "data": {
            "text/plain": [
              "<matplotlib.axes._subplots.AxesSubplot at 0x7f2ec95e3760>"
            ]
          },
          "execution_count": 14,
          "metadata": {},
          "output_type": "execute_result"
        },
        {
          "data": {
            "image/png": "[encoded data removed]",
            "text/plain": [
              "<Figure size 1080x288 with 1 Axes>"
            ]
          },
          "metadata": {},
          "output_type": "display_data"
        }
      ],
      "source": [
        "# --- Write your code below ---\n",
        "pro = df_temp.sort_values('# of Properties',ascending=False)\n",
        "pro = pro.head(20)\n",
        "pro['YEAR_BUILT'] = df_temp['YEAR_BUILT'].apply(lambda x:str(x))\n",
        "\n",
        "plt.figure(figsize=(15, 4))\n",
        "\n",
        "sns.barplot(data=pro, x=\"YEAR_BUILT\", y=\"# of Properties\")"
      ]
    },
    {
      "cell_type": "markdown",
      "metadata": {
        "id": "Y2r1RKHMqjpE"
      },
      "source": [
        "Please write down the **two** most interesting findings that you draw from the plot. \n",
        "\n",
        "**Findings**\n",
        "1. Most properties were built in 1994.\n",
        "2. 2005 is the year when most properties were built after 2000s."
      ]
    },
    {
      "cell_type": "markdown",
      "metadata": {
        "id": "MCe3xVBPqjpE"
      },
      "source": [
        "### Question 6. Plot a histogram"
      ]
    },
    {
      "cell_type": "markdown",
      "metadata": {
        "id": "b7zbKZMaqjpE"
      },
      "source": [
        "What's the distribution of the number of properties built between 1990 and 2020? Please plot a histogram to answer this question."
      ]
    },
    {
      "cell_type": "code",
      "execution_count": 15,
      "metadata": {
        "colab": {
          "base_uri": "https://localhost:8080/",
          "height": 303
        },
        "id": "xadk2K7AqjpE",
        "outputId": "8cb40c17-293c-412a-fa6d-856e545a932a"
      },
      "outputs": [
        {
          "data": {
            "text/plain": [
              "<matplotlib.axes._subplots.AxesSubplot at 0x7f2eaf700c40>"
            ]
          },
          "execution_count": 15,
          "metadata": {},
          "output_type": "execute_result"
        },
        {
          "data": {
            "image/png": "[encoded data removed]",
            "text/plain": [
              "<Figure size 432x288 with 1 Axes>"
            ]
          },
          "metadata": {},
          "output_type": "display_data"
        }
      ],
      "source": [
        "# --- Write your code below ---\n",
        "con1 = df_temp['YEAR_BUILT']>=1900\n",
        "con2 = df_temp['YEAR_BUILT']<=2020\n",
        "\n",
        "sns.histplot(df_temp[con1&con2]['# of Properties'],bins=50)"
      ]
    },
    {
      "cell_type": "markdown",
      "metadata": {
        "id": "fCzdZh4CqjpE"
      },
      "source": [
        "Please write down the **two** most interesting findings that you draw from the plot. \n",
        "\n",
        "**Findings**\n",
        "1. properties less than 5000 were built in most years.\n",
        "2. It is rarely the case that 20000 properties were built."
      ]
    },
    {
      "cell_type": "markdown",
      "metadata": {
        "id": "n78w6sa9qjpF"
      },
      "source": [
        "### Question 7. Make a scatter plot"
      ]
    },
    {
      "cell_type": "markdown",
      "metadata": {
        "id": "0720V3m1qjpF"
      },
      "source": [
        "Suppose we are interested in those years which built more than 2000 properties. Make a scatter plot to examine whether there is a relationship between the number of built properties and the year?"
      ]
    },
    {
      "cell_type": "code",
      "execution_count": 16,
      "metadata": {
        "colab": {
          "base_uri": "https://localhost:8080/",
          "height": 303
        },
        "id": "rugIz3ObqjpF",
        "outputId": "88be807a-5ec1-4b06-ebeb-69dc9415f920"
      },
      "outputs": [
        {
          "data": {
            "text/plain": [
              "<matplotlib.axes._subplots.AxesSubplot at 0x7f2ead3a6ca0>"
            ]
          },
          "execution_count": 16,
          "metadata": {},
          "output_type": "execute_result"
        },
        {
          "data": {
            "image/png": "[encoded data removed]",
            "text/plain": [
              "<Figure size 432x288 with 1 Axes>"
            ]
          },
          "metadata": {},
          "output_type": "display_data"
        }
      ],
      "source": [
        "# --- Write your code below ---\n",
        "con = df_temp['# of Properties']>2000\n",
        "sns.scatterplot(data = df_temp[con],y='YEAR_BUILT',x='# of Properties')"
      ]
    },
    {
      "cell_type": "markdown",
      "metadata": {
        "id": "siL862RZqjpF"
      },
      "source": [
        "Please write down the **two** most interesting findings that you draw from the plot. \n",
        "\n",
        "**Findings**\n",
        "1. [ADD TEXT]\n",
        "2. [ADD TEXT]"
      ]
    },
    {
      "cell_type": "markdown",
      "metadata": {
        "id": "GthMzDEcqjpF"
      },
      "source": [
        "### Step 8. Obtain geographic coordinates for Canadian postal codes\n",
        "\n",
        "The property data carries Canadian postal codes, but latitude/longitude coordinates would be much more useful. Unfortunately, geolocations of Canadian postal codes are protected by copyright and the information has to be purchased. Fortunately, you already paid for it with your tuition...\n",
        "\n",
        "Statistics Canada has a protected dataset, the postal code conversion file, which is available to SFU students via the Abacus Dataverse. Please follow these steps:\n",
        "* Have a valid SFU account (not sure if alumni account would work)\n",
        "* Connect to the Abacus Data Network via https://databases.lib.sfu.ca/record/61245148090003610/Abacus-Data-Network\n",
        "* Connecting via the above link should show you as logged in user at https://abacus-library-ubc-ca.proxy.lib.sfu.ca/\n",
        "* Search for: **Postal Code Conversion File May 2021**\n",
        "* Download files: **pccfNat_fccpNat_052021.txt** and the [2021 PCCF Guide .pdf](https://abacus.library.ubc.ca/file.xhtml?persistentId=hdl:11272.1/AB2/9J8YUH/WJHERN&version=1.0) and place them in the same folder as this notebook.\n",
        "\n",
        "#### Details about the dataset in the 2021 PCCF Guide\n",
        "* Description of available fields for each postal code, see Content section, pp. 9\n",
        "* Offsets and Size of fields to extract from lines in Postal Code Conversion File, Table 4.1, p. 11.  \n",
        "  This is also included along with this notebook as **pccf_record_layout.csv**"
      ]
    },
    {
      "cell_type": "code",
      "execution_count": 17,
      "metadata": {
        "colab": {
          "base_uri": "https://localhost:8080/",
          "height": 46
        },
        "id": "kUr31Q-TqjpG",
        "outputId": "c49ac1d7-4f23-4820-c9eb-693a5ef12d90"
      },
      "outputs": [
        {
          "data": {
            "text/markdown": [
              "Number of lines in PCCF: 1,742,403"
            ],
            "text/plain": [
              "<IPython.core.display.Markdown object>"
            ]
          },
          "metadata": {},
          "output_type": "display_data"
        }
      ],
      "source": [
        "rldf = pd.read_csv('pccf_record_layout.csv')\n",
        "# load the raw text pccf file\n",
        "with open('pccfNat_fccpNat_052021.txt','r', encoding='latin-1') as fh:\n",
        "    pctxt = fh.read()\n",
        "pclines = pctxt.split('\\n')\n",
        "pclines = list(filter(lambda l: len(l), pclines)) # keep only non-empty lines\n",
        "displaymd(f\"Number of lines in PCCF: {len(pclines):,}\")"
      ]
    },
    {
      "cell_type": "markdown",
      "metadata": {
        "id": "wEiFb2w5qjpG"
      },
      "source": [
        "The following extraction of substrings works, but is *very slow*. Please use [pandas string methods](https://pandas.pydata.org/pandas-docs/stable/user_guide/text.html#string-methods) to make this faster.  \n",
        "**TODO** write your improved code here."
      ]
    },
    {
      "cell_type": "code",
      "execution_count": 18,
      "metadata": {
        "colab": {
          "base_uri": "https://localhost:8080/"
        },
        "id": "5REqG9y2qjpG",
        "outputId": "cb8575c6-c54a-419d-9b68-817dcb9e1892"
      },
      "outputs": [
        {
          "name": "stdout",
          "output_type": "stream",
          "text": [
            "0 Postal code\n",
            "1 FSA\n",
            "2 PR\n",
            "3 CDuid\n",
            "4 CSDuid\n",
            "5 CSDname\n",
            "6 CSDtype\n",
            "7 CCScode\n",
            "8 SAC\n",
            "9 SACtype\n",
            "10 CTname\n",
            "11 ER\n",
            "12 DPL\n",
            "13 FED13uid\n",
            "14 POP_CNTR_RA\n",
            "15 POP_CNTR_RA_type\n",
            "16 DAuid\n",
            "17 Dissemination block\n",
            "18 Rep_Pt_Type\n",
            "19 LAT\n",
            "20 LONG\n",
            "21 SLI\n",
            "22 PCtype\n",
            "23 Comm_Name\n",
            "24 DMT\n",
            "25 H_DMT\n",
            "26 Birth_Date\n",
            "27 Ret_Date\n",
            "28 PO\n",
            "29 QI\n",
            "30 Source\n",
            "31 POP_CNTR_RA_SIZE_CLASS\n"
          ]
        }
      ],
      "source": [
        "# TODO: rewrite this function to make it run in about a minute (or just maybe 17 sec)\n",
        "def gen_pccf():\n",
        "    def row_slice():\n",
        "        for l in pclines:\n",
        "            yield l[r['Position']-1:r['Position']+r['Size']-1]\n",
        "    for idx, r in rldf.iterrows():\n",
        "        print(idx, r['Field name'])\n",
        "        yield r['Field name'], list(row_slice())\n",
        "pccf_df = pd.DataFrame(dict(gen_pccf()))"
      ]
    },
    {
      "cell_type": "code",
      "execution_count": 19,
      "metadata": {
        "id": "DcYcYvGIqjpH"
      },
      "outputs": [],
      "source": [
        "pccf_df['LAT'] = pccf_df['LAT'].astype(float)\n",
        "pccf_df['LONG'] = pccf_df['LONG'].astype(float)\n",
        "pccf_short = pccf_df[['Postal code', 'LONG', 'LAT', 'CSDname']]\n",
        "pccf_short = pccf_short.groupby('Postal code').agg({'LONG':'mean','LAT':'mean','CSDname':'first'})"
      ]
    },
    {
      "cell_type": "markdown",
      "metadata": {
        "id": "a2tOA7BAqjpH"
      },
      "source": [
        "Phew, that was tedious! But now we're ready to merge geolocation to our property data."
      ]
    },
    {
      "cell_type": "code",
      "execution_count": 20,
      "metadata": {
        "id": "F_X5wum4qjpH"
      },
      "outputs": [],
      "source": [
        "df['Postal code'] = df['PROPERTY_POSTAL_CODE'].str.replace(' ','')\n",
        "dfgeo = df.merge(pccf_short, on='Postal code')"
      ]
    },
    {
      "cell_type": "code",
      "execution_count": 21,
      "metadata": {
        "colab": {
          "base_uri": "https://localhost:8080/",
          "height": 268
        },
        "id": "iMhqDoXhqjpH",
        "outputId": "1b422a0f-09c9-482d-bff3-4c011b724132"
      },
      "outputs": [
        {
          "data": {
            "image/png": "[encoded data removed]",
            "text/plain": [
              "<Figure size 432x288 with 1 Axes>"
            ]
          },
          "metadata": {},
          "output_type": "display_data"
        }
      ],
      "source": [
        "# TODO remove the properties that are further north, outside Vancouver proper.\n",
        "# Use a suitable visualiation to decide the right cutoff.\n",
        "\n",
        "# --- write your code here ---\n",
        "dfgeo_van = dfgeo\n",
        "\n",
        "plt.scatter(x=dfgeo['LONG'], y=dfgeo['LAT'])\n",
        "plt.show()"
      ]
    },
    {
      "cell_type": "markdown",
      "metadata": {
        "id": "HEM5T_9MqjpH"
      },
      "source": [
        "Feel free to use the function below to prepare a heatmap of averages. The code is based on [Matthew McGonagle's blog post](https://matthewmcgonagle.github.io/blog/2019/01/22/HeatmapBins)."
      ]
    },
    {
      "cell_type": "code",
      "execution_count": 22,
      "metadata": {
        "id": "gyIHrS5mqjpI"
      },
      "outputs": [],
      "source": [
        "def heatmap_bins(data, fieldsxy, ncuts=30, aggarg='mean'):\n",
        "    \"\"\"Perform data.groupby using bin cuts along columns named in fieldsxy.\n",
        "    Args:\n",
        "        data     - pandas dataframe\n",
        "        fieldsxy - list of column names along which to perform binned groupby\n",
        "        ncuts    - number of cuts to perform for each field (see pd.cut)\n",
        "        aggarg   - aggregation operation to perform, default: 'mean'\n",
        "    Returns:\n",
        "        grouped dataframe, ready for plotting via sns.heatmap(means['COLUMNAME'])\n",
        "    \"\"\"\n",
        "    # based on: https://matthewmcgonagle.github.io/blog/2019/01/22/HeatmapBins\n",
        "    cuts = pd.DataFrame({str(feature) + ' bins' : pd.cut(data[feature], ncuts) for feature in fieldsxy})\n",
        "    means = data.join(cuts).groupby( list(cuts) ).agg(aggarg)\n",
        "    means = means.unstack(level = 0) # Use level 0 to put 0Bin as columns.\n",
        "    # Reverse the order of the rows as the heatmap will print from top to bottom.\n",
        "    means = means.iloc[::-1]\n",
        "    return means"
      ]
    },
    {
      "cell_type": "markdown",
      "metadata": {
        "id": "0OMqTwflqjpI"
      },
      "source": [
        "**TODO** plot a heatmap of average current property prices, within the same geographic area\n",
        "\n",
        "Note that the colormap may be useless due to a few extreme values. Rather than removing them as 'outliers', please just map the values before drawing with a suitable choice of logarithm."
      ]
    },
    {
      "cell_type": "code",
      "execution_count": 41,
      "metadata": {
        "colab": {
          "base_uri": "https://localhost:8080/",
          "height": 650
        },
        "id": "WbjW7w9GqjpI",
        "outputId": "f220a1b1-5bd0-4563-f4b7-8588253d8be2"
      },
      "outputs": [
        {
          "data": {
            "image/png": "[encoded data removed]",
            "text/plain": [
              "<Figure size 720x720 with 2 Axes>"
            ]
          },
          "metadata": {},
          "output_type": "display_data"
        }
      ],
      "source": [
        "field = 'CURRENT_PRICE'\n",
        "with plt.rc_context({'figure.figsize': (10,10)}):\n",
        "    # TODO -- write your code here ---\n",
        "    con1 = lambda x:np.log(x)\n",
        "    con2 = lambda x : x.left\n",
        "\n",
        "    means = heatmap_bins(dfgeo_van,['LONG','LAT'])\n",
        "\n",
        "    tab = means[field].apply(con1)\n",
        "    col_lables = means[field].columns.map(con2)\n",
        "    index_lables = means[field].index.map(con2)\n",
        "    \n",
        "    sns.heatmap(tab, xticklabels = col_lables,\n",
        "                        yticklabels = index_lables)"
      ]
    },
    {
      "cell_type": "markdown",
      "metadata": {
        "id": "GymxQ7BmqjpJ"
      },
      "source": [
        "Please write down the **two** most interesting findings that you draw from the plot. \n",
        "\n",
        "**Findings**\n",
        "1. It appears that the cost of living in the southeast region is relatively low.\n",
        "2. It seems that the real estate properties in the northwest region are of higher cost.\n"
      ]
    },
    {
      "cell_type": "markdown",
      "metadata": {
        "id": "aHH7nAfmqjpJ"
      },
      "source": [
        "### Task 9: Integrate with BC Assessment data\n",
        "\n",
        "BC Assessment is a governmental institution that provides valuation estimates for real-estate properties, so-called folios, around British Columbia.\n",
        "\n",
        "SFU Library recently obtained access to the BCA Advice data, subject to conditions laid out in their End-user license agreement (EULA), for instance:\n",
        "* free for research and classroom use only\n",
        "* publication of results only with BCA consent (i.e. no public github repo with data or results)\n",
        "* follow further criteria listed in the EULA.\n",
        "\n",
        "In order to use the dataset we prepared, you have to agree to the [EULA](https://1sfu.sharepoint.com/:w:/r/teams/CMPT733-BigData2023-SFUTeams2/Shared%20Documents/General/Document.docx?d=w61f9f5754582479a99e06393611ff4d4&csf=1&web=1&e=o31Aaz) provided by BCA.\n",
        "\n",
        "**Please follow the steps in the [BCA EULA sigsheet](https://1sfu.sharepoint.com/:x:/r/teams/CMPT733-BigData2023-SFUTeams2/Shared%20Documents/General/BCA%20EULA%20sigsheet.xlsx?d=wa24cef1803814ac3bbd4a49e990eaa75&csf=1&web=1&e=crtkgT) to obtain the dataset.**"
      ]
    },
    {
      "cell_type": "code",
      "execution_count": 24,
      "metadata": {
        "colab": {
          "base_uri": "https://localhost:8080/"
        },
        "id": "DKNXXfSvqjpJ",
        "outputId": "96ec8fd6-3925-4d58-bd96-11543cbe7068"
      },
      "outputs": [
        {
          "name": "stderr",
          "output_type": "stream",
          "text": [
            "/usr/local/lib/python3.8/dist-packages/IPython/core/interactiveshell.py:3326: DtypeWarning: Columns (30,31) have mixed types.Specify dtype option on import or set low_memory=False.\n",
            "  exec(code_obj, self.user_global_ns, self.user_ns)\n"
          ]
        }
      ],
      "source": [
        "# Load the dataset\n",
        "\n",
        "bcadf = pd.read_csv('sales-residential-2022-cleaned.csv')\n"
      ]
    },
    {
      "cell_type": "markdown",
      "metadata": {
        "id": "CZ4COoHqqjpK"
      },
      "source": [
        "#### 9.a Add latitude and longitude info\n",
        "\n",
        "**TODO:** Obtain geographic coordinates for Canadian postal codes and merge them with existing dataframe\n",
        "\n",
        "Use the `pccf_df` that you made before and join it with the bca data. Ensure that you get latitude and longitude, as well as, CSDname of the city or community for each folioID.\n"
      ]
    },
    {
      "cell_type": "code",
      "execution_count": 43,
      "metadata": {
        "id": "vwqpG-6CqjpK"
      },
      "outputs": [],
      "source": [
        "# TODO write your code here\n",
        "\n",
        "pccf_short = pccf_df[['Postal code', 'LONG', 'LAT', 'CSDname']]\n",
        "#display(pccf_short.head(5))\n",
        "\n",
        "bcadf['postalCode'] = bcadf['postalCode'].str.replace(' ','')\n",
        "#display(bcadf.head(5))\n",
        "\n",
        "dfgeo = bcadf.merge(pccf_short, left_on=['postalCode'], right_on = ['Postal code'])\n",
        "#display(dfgeo.head(5))"
      ]
    },
    {
      "cell_type": "markdown",
      "metadata": {
        "id": "b7G2pz2IqjpK"
      },
      "source": [
        "#### 9.b Create a quantitative map of Vancouver properties\n",
        "\n",
        "Use the CSDName and limit the dataset to foloID's for `Vancouver` only. Then  perform the following:\n",
        "\n",
        "Create a plot of `conveyancePrice` on a map. You can either draw individual color coded points or construct a heatmap using code from before."
      ]
    },
    {
      "cell_type": "code",
      "execution_count": 44,
      "metadata": {
        "colab": {
          "base_uri": "https://localhost:8080/",
          "height": 822
        },
        "id": "UMcOy9fFDQkF",
        "outputId": "b5ea5465-d66d-4d61-d826-73250d5e1313"
      },
      "outputs": [
        {
          "name": "stderr",
          "output_type": "stream",
          "text": [
            "<ipython-input-44-b5abd502ff49>:7: SettingWithCopyWarning: \n",
            "A value is trying to be set on a copy of a slice from a DataFrame.\n",
            "Try using .loc[row_indexer,col_indexer] = value instead\n",
            "\n",
            "See the caveats in the documentation: https://pandas.pydata.org/pandas-docs/stable/user_guide/indexing.html#returning-a-view-versus-a-copy\n",
            "  df_hp['conveyancePrice'] = np.log2(df_hp['conveyancePrice'])\n"
          ]
        },
        {
          "data": {
            "image/png": "[encoded data removed]",
            "text/plain": [
              "<Figure size 720x720 with 2 Axes>"
            ]
          },
          "metadata": {},
          "output_type": "display_data"
        }
      ],
      "source": [
        "df_newgeo = dfgeo.loc[dfgeo['CSDname'].str.startswith('Vancouver', na = False)]\n",
        "#display(df_newgeo.head(5))\n",
        "price = df_newgeo['conveyancePrice']\n",
        "\n",
        "with plt.rc_context({'figure.figsize':(10,10)}):\n",
        "  df_hp = df_newgeo[['LONG','LAT','conveyancePrice']]\n",
        "  df_hp['conveyancePrice'] = np.log2(df_hp['conveyancePrice'])\n",
        "  means = heatmap_bins(df_hp,['LONG','LAT'])\n",
        "  sns.heatmap(means['conveyancePrice'],cmap = 'crest')\n"
      ]
    },
    {
      "cell_type": "code",
      "execution_count": 45,
      "metadata": {
        "colab": {
          "base_uri": "https://localhost:8080/",
          "height": 315
        },
        "id": "Pe-MLLS9uobz",
        "outputId": "906d9c9e-20b3-42a8-f6e3-c578abfa8649"
      },
      "outputs": [
        {
          "data": {
            "text/html": [
              "\n",
              "  <div id=\"df-e687d64a-bde7-4639-bbab-dfe011d59755\">\n",
              "    <div class=\"colab-df-container\">\n",
              "      <div>\n",
              "<style scoped>\n",
              "    .dataframe tbody tr th:only-of-type {\n",
              "        vertical-align: middle;\n",
              "    }\n",
              "\n",
              "    .dataframe tbody tr th {\n",
              "        vertical-align: top;\n",
              "    }\n",
              "\n",
              "    .dataframe thead th {\n",
              "        text-align: right;\n",
              "    }\n",
              "</style>\n",
              "<table border=\"1\" class=\"dataframe\">\n",
              "  <thead>\n",
              "    <tr style=\"text-align: right;\">\n",
              "      <th></th>\n",
              "      <th>folioID</th>\n",
              "      <th>conveyanceDate</th>\n",
              "      <th>conveyancePrice</th>\n",
              "      <th>conveyanceType</th>\n",
              "      <th>conveyanceTypeDescription</th>\n",
              "      <th>postalCode</th>\n",
              "      <th>area</th>\n",
              "      <th>jurisdiction</th>\n",
              "      <th>roll_number</th>\n",
              "      <th>MB_manual_class</th>\n",
              "      <th>...</th>\n",
              "      <th>fireplace_num_5</th>\n",
              "      <th>first_floor_area</th>\n",
              "      <th>second_floor_area</th>\n",
              "      <th>third_floor_area</th>\n",
              "      <th>school_district</th>\n",
              "      <th>zoning</th>\n",
              "      <th>Postal code</th>\n",
              "      <th>LONG</th>\n",
              "      <th>LAT</th>\n",
              "      <th>CSDname</th>\n",
              "    </tr>\n",
              "  </thead>\n",
              "  <tbody>\n",
              "    <tr>\n",
              "      <th>1491</th>\n",
              "      <td>A000001DGC</td>\n",
              "      <td>2022-01-14</td>\n",
              "      <td>1000000</td>\n",
              "      <td>7</td>\n",
              "      <td>Improved Single Property Transaction</td>\n",
              "      <td>V5Z3G9</td>\n",
              "      <td>9</td>\n",
              "      <td>200</td>\n",
              "      <td>011165758140009</td>\n",
              "      <td>D702</td>\n",
              "      <td>...</td>\n",
              "      <td>NaN</td>\n",
              "      <td>NaN</td>\n",
              "      <td>NaN</td>\n",
              "      <td>NaN</td>\n",
              "      <td>39</td>\n",
              "      <td>NaN</td>\n",
              "      <td>V5Z3G9</td>\n",
              "      <td>-123.117908</td>\n",
              "      <td>49.227999</td>\n",
              "      <td>Vancouver                                     ...</td>\n",
              "    </tr>\n",
              "    <tr>\n",
              "      <th>1492</th>\n",
              "      <td>A000001DHK</td>\n",
              "      <td>2022-02-15</td>\n",
              "      <td>1425000</td>\n",
              "      <td>7</td>\n",
              "      <td>Improved Single Property Transaction</td>\n",
              "      <td>V5Z3G9</td>\n",
              "      <td>9</td>\n",
              "      <td>200</td>\n",
              "      <td>011165758360010</td>\n",
              "      <td>D701</td>\n",
              "      <td>...</td>\n",
              "      <td>NaN</td>\n",
              "      <td>NaN</td>\n",
              "      <td>NaN</td>\n",
              "      <td>NaN</td>\n",
              "      <td>39</td>\n",
              "      <td>NaN</td>\n",
              "      <td>V5Z3G9</td>\n",
              "      <td>-123.117908</td>\n",
              "      <td>49.227999</td>\n",
              "      <td>Vancouver                                     ...</td>\n",
              "    </tr>\n",
              "    <tr>\n",
              "      <th>1493</th>\n",
              "      <td>A000001DGL</td>\n",
              "      <td>2022-02-01</td>\n",
              "      <td>735000</td>\n",
              "      <td>7</td>\n",
              "      <td>Improved Single Property Transaction</td>\n",
              "      <td>V5Z3G9</td>\n",
              "      <td>9</td>\n",
              "      <td>200</td>\n",
              "      <td>011165758140017</td>\n",
              "      <td>D702</td>\n",
              "      <td>...</td>\n",
              "      <td>NaN</td>\n",
              "      <td>NaN</td>\n",
              "      <td>NaN</td>\n",
              "      <td>NaN</td>\n",
              "      <td>39</td>\n",
              "      <td>NaN</td>\n",
              "      <td>V5Z3G9</td>\n",
              "      <td>-123.117908</td>\n",
              "      <td>49.227999</td>\n",
              "      <td>Vancouver                                     ...</td>\n",
              "    </tr>\n",
              "    <tr>\n",
              "      <th>1494</th>\n",
              "      <td>D0000SYFBY</td>\n",
              "      <td>2022-02-08</td>\n",
              "      <td>1000000</td>\n",
              "      <td>7</td>\n",
              "      <td>Improved Single Property Transaction</td>\n",
              "      <td>V6A0C6</td>\n",
              "      <td>9</td>\n",
              "      <td>200</td>\n",
              "      <td>013634186500021</td>\n",
              "      <td>B705</td>\n",
              "      <td>...</td>\n",
              "      <td>NaN</td>\n",
              "      <td>NaN</td>\n",
              "      <td>NaN</td>\n",
              "      <td>NaN</td>\n",
              "      <td>39</td>\n",
              "      <td>NaN</td>\n",
              "      <td>V6A0C6</td>\n",
              "      <td>-123.101361</td>\n",
              "      <td>49.271190</td>\n",
              "      <td>Vancouver                                     ...</td>\n",
              "    </tr>\n",
              "    <tr>\n",
              "      <th>1495</th>\n",
              "      <td>D0000SYFWZ</td>\n",
              "      <td>2022-01-18</td>\n",
              "      <td>1128300</td>\n",
              "      <td>7</td>\n",
              "      <td>Improved Single Property Transaction</td>\n",
              "      <td>V6A0C6</td>\n",
              "      <td>9</td>\n",
              "      <td>200</td>\n",
              "      <td>013634186500140</td>\n",
              "      <td>B705</td>\n",
              "      <td>...</td>\n",
              "      <td>NaN</td>\n",
              "      <td>NaN</td>\n",
              "      <td>NaN</td>\n",
              "      <td>NaN</td>\n",
              "      <td>39</td>\n",
              "      <td>NaN</td>\n",
              "      <td>V6A0C6</td>\n",
              "      <td>-123.101361</td>\n",
              "      <td>49.271190</td>\n",
              "      <td>Vancouver                                     ...</td>\n",
              "    </tr>\n",
              "  </tbody>\n",
              "</table>\n",
              "<p>5 rows × 69 columns</p>\n",
              "</div>\n",
              "      <button class=\"colab-df-convert\" onclick=\"convertToInteractive('df-e687d64a-bde7-4639-bbab-dfe011d59755')\"\n",
              "              title=\"Convert this dataframe to an interactive table.\"\n",
              "              style=\"display:none;\">\n",
              "        \n",
              "  <svg xmlns=\"http://www.w3.org/2000/svg\" height=\"24px\"viewBox=\"0 0 24 24\"\n",
              "       width=\"24px\">\n",
              "    <path d=\"M0 0h24v24H0V0z\" fill=\"none\"/>\n",
              "    <path d=\"M18.56 5.44l.94 2.06.94-2.06 2.06-.94-2.06-.94-.94-2.06-.94 2.06-2.06.94zm-11 1L8.5 8.5l.94-2.06 2.06-.94-2.06-.94L8.5 2.5l-.94 2.06-2.06.94zm10 10l.94 2.06.94-2.06 2.06-.94-2.06-.94-.94-2.06-.94 2.06-2.06.94z\"/><path d=\"M17.41 7.96l-1.37-1.37c-.4-.4-.92-.59-1.43-.59-.52 0-1.04.2-1.43.59L10.3 9.45l-7.72 7.72c-.78.78-.78 2.05 0 2.83L4 21.41c.39.39.9.59 1.41.59.51 0 1.02-.2 1.41-.59l7.78-7.78 2.81-2.81c.8-.78.8-2.07 0-2.86zM5.41 20L4 18.59l7.72-7.72 1.47 1.35L5.41 20z\"/>\n",
              "  </svg>\n",
              "      </button>\n",
              "      \n",
              "  <style>\n",
              "    .colab-df-container {\n",
              "      display:flex;\n",
              "      flex-wrap:wrap;\n",
              "      gap: 12px;\n",
              "    }\n",
              "\n",
              "    .colab-df-convert {\n",
              "      background-color: #E8F0FE;\n",
              "      border: none;\n",
              "      border-radius: 50%;\n",
              "      cursor: pointer;\n",
              "      display: none;\n",
              "      fill: #1967D2;\n",
              "      height: 32px;\n",
              "      padding: 0 0 0 0;\n",
              "      width: 32px;\n",
              "    }\n",
              "\n",
              "    .colab-df-convert:hover {\n",
              "      background-color: #E2EBFA;\n",
              "      box-shadow: 0px 1px 2px rgba(60, 64, 67, 0.3), 0px 1px 3px 1px rgba(60, 64, 67, 0.15);\n",
              "      fill: #174EA6;\n",
              "    }\n",
              "\n",
              "    [theme=dark] .colab-df-convert {\n",
              "      background-color: #3B4455;\n",
              "      fill: #D2E3FC;\n",
              "    }\n",
              "\n",
              "    [theme=dark] .colab-df-convert:hover {\n",
              "      background-color: #434B5C;\n",
              "      box-shadow: 0px 1px 3px 1px rgba(0, 0, 0, 0.15);\n",
              "      filter: drop-shadow(0px 1px 2px rgba(0, 0, 0, 0.3));\n",
              "      fill: #FFFFFF;\n",
              "    }\n",
              "  </style>\n",
              "\n",
              "      <script>\n",
              "        const buttonEl =\n",
              "          document.querySelector('#df-e687d64a-bde7-4639-bbab-dfe011d59755 button.colab-df-convert');\n",
              "        buttonEl.style.display =\n",
              "          google.colab.kernel.accessAllowed ? 'block' : 'none';\n",
              "\n",
              "        async function convertToInteractive(key) {\n",
              "          const element = document.querySelector('#df-e687d64a-bde7-4639-bbab-dfe011d59755');\n",
              "          const dataTable =\n",
              "            await google.colab.kernel.invokeFunction('convertToInteractive',\n",
              "                                                     [key], {});\n",
              "          if (!dataTable) return;\n",
              "\n",
              "          const docLinkHtml = 'Like what you see? Visit the ' +\n",
              "            '<a target=\"_blank\" href=https://colab.research.google.com/notebooks/data_table.ipynb>data table notebook</a>'\n",
              "            + ' to learn more about interactive tables.';\n",
              "          element.innerHTML = '';\n",
              "          dataTable['output_type'] = 'display_data';\n",
              "          await google.colab.output.renderOutput(dataTable, element);\n",
              "          const docLink = document.createElement('div');\n",
              "          docLink.innerHTML = docLinkHtml;\n",
              "          element.appendChild(docLink);\n",
              "        }\n",
              "      </script>\n",
              "    </div>\n",
              "  </div>\n",
              "  "
            ],
            "text/plain": [
              "         folioID conveyanceDate  conveyancePrice  conveyanceType  \\\n",
              "1491  A000001DGC     2022-01-14          1000000               7   \n",
              "1492  A000001DHK     2022-02-15          1425000               7   \n",
              "1493  A000001DGL     2022-02-01           735000               7   \n",
              "1494  D0000SYFBY     2022-02-08          1000000               7   \n",
              "1495  D0000SYFWZ     2022-01-18          1128300               7   \n",
              "\n",
              "                 conveyanceTypeDescription postalCode  area  jurisdiction  \\\n",
              "1491  Improved Single Property Transaction     V5Z3G9     9           200   \n",
              "1492  Improved Single Property Transaction     V5Z3G9     9           200   \n",
              "1493  Improved Single Property Transaction     V5Z3G9     9           200   \n",
              "1494  Improved Single Property Transaction     V6A0C6     9           200   \n",
              "1495  Improved Single Property Transaction     V6A0C6     9           200   \n",
              "\n",
              "          roll_number MB_manual_class  ...  fireplace_num_5  first_floor_area  \\\n",
              "1491  011165758140009            D702  ...              NaN               NaN   \n",
              "1492  011165758360010            D701  ...              NaN               NaN   \n",
              "1493  011165758140017            D702  ...              NaN               NaN   \n",
              "1494  013634186500021            B705  ...              NaN               NaN   \n",
              "1495  013634186500140            B705  ...              NaN               NaN   \n",
              "\n",
              "      second_floor_area  third_floor_area  school_district  zoning  \\\n",
              "1491                NaN               NaN               39     NaN   \n",
              "1492                NaN               NaN               39     NaN   \n",
              "1493                NaN               NaN               39     NaN   \n",
              "1494                NaN               NaN               39     NaN   \n",
              "1495                NaN               NaN               39     NaN   \n",
              "\n",
              "      Postal code        LONG        LAT  \\\n",
              "1491       V5Z3G9 -123.117908  49.227999   \n",
              "1492       V5Z3G9 -123.117908  49.227999   \n",
              "1493       V5Z3G9 -123.117908  49.227999   \n",
              "1494       V6A0C6 -123.101361  49.271190   \n",
              "1495       V6A0C6 -123.101361  49.271190   \n",
              "\n",
              "                                                CSDname  \n",
              "1491  Vancouver                                     ...  \n",
              "1492  Vancouver                                     ...  \n",
              "1493  Vancouver                                     ...  \n",
              "1494  Vancouver                                     ...  \n",
              "1495  Vancouver                                     ...  \n",
              "\n",
              "[5 rows x 69 columns]"
            ]
          },
          "metadata": {},
          "output_type": "display_data"
        },
        {
          "name": "stdout",
          "output_type": "stream",
          "text": [
            "Warning: Total number of columns (69) exceeds max_columns (20) limiting to first (20) columns.\n"
          ]
        }
      ],
      "source": [
        "display(df_newgeo.head(5))"
      ]
    },
    {
      "cell_type": "markdown",
      "metadata": {
        "id": "ftm0-lfLqjpK"
      },
      "source": [
        "#### 9.c Create one or multiple plots to explore possible relationships between other quantitative variables and conveyancePrice\n",
        "\n",
        "For this question, please use the entire dataset.\n",
        "\n",
        "1. Create a plot that shows how `conveyancePrice` relates to two (or more) other quantitative variables. We are hoping to use this plot to think about possible modeling choices for price predictions."
      ]
    },
    {
      "cell_type": "code",
      "execution_count": 51,
      "metadata": {
        "colab": {
          "base_uri": "https://localhost:8080/",
          "height": 575
        },
        "id": "PkyyML84qjpK",
        "outputId": "1dd82845-7559-48e7-d10d-d17ed206c6ed"
      },
      "outputs": [
        {
          "data": {
            "image/png": "[encoded data removed]",
            "text/plain": [
              "<Figure size 432x288 with 1 Axes>"
            ]
          },
          "metadata": {},
          "output_type": "display_data"
        },
        {
          "data": {
            "image/png": "[encoded data removed]",
            "text/plain": [
              "<Figure size 432x288 with 1 Axes>"
            ]
          },
          "metadata": {},
          "output_type": "display_data"
        }
      ],
      "source": [
        "# TODO write your code\n",
        "var1 = 'MB_year_built'\n",
        "var2 = 'MB_total_finished_area'\n",
        "var3 = 'conveyancePrice'\n",
        "\n",
        "plot_sub= df_newgeo.dropna(subset = [var1,var2])\n",
        "# Scatter plot to show relationship between var1 and var3 columns\n",
        "plot_sub.plot(kind='scatter', x=var1, y=var3, color='blue', marker='x')\n",
        "plt.show()\n",
        "\n",
        "\n",
        "# Scatter plot to show relationship between var2 and var3 columns\n",
        "plot_sub.plot(kind='scatter', x=var2, y=var3, color='green')\n",
        "plt.show()\n",
        "\n"
      ]
    },
    {
      "cell_type": "markdown",
      "metadata": {
        "id": "V1SvjvsVqjpL"
      },
      "source": [
        "### Optional Task 10: Further exploration (Bonus +0.25%)\n",
        "\n",
        "If you do want to explore the spatial data of this assignment further, take a look at the material and tutorials of Geoff Boeing's [OSMnx](https://github.com/gboeing/osmnx). It can interface with the open street map API and pull further data, such as amenities, road network, basemap to add as background of a scatter plot, for instance.\n",
        "\n",
        "In case you decide to work on this and would like to share your result, include a single page (or short) PDF that contains a plot and brief paragraph explaining it. Quality outcomes, we may showcase some of these works in class."
      ]
    },
    {
      "cell_type": "code",
      "execution_count": null,
      "metadata": {
        "id": "zI3kD77FqjpL"
      },
      "outputs": [],
      "source": []
    },
    {
      "cell_type": "markdown",
      "metadata": {
        "id": "dZ1Z6baaqjpL"
      },
      "source": [
        "## Submission"
      ]
    },
    {
      "cell_type": "markdown",
      "metadata": {
        "id": "KRnwL24HqjpL"
      },
      "source": [
        "You need to complete the first part by filling out this notebook. Please submit <font color=\"blue\">A3.ipynb</font> to the CourSys activity [Assignment 3](https://courses.cs.sfu.ca/2022sp-cmpt-733-g1/+a3/). "
      ]
    }
  ],
  "metadata": {
    "colab": {
      "provenance": []
    },
    "kernelspec": {
      "display_name": "base",
      "language": "python",
      "name": "python3"
    },
    "language_info": {
      "codemirror_mode": {
        "name": "ipython",
        "version": 3
      },
      "file_extension": ".py",
      "mimetype": "text/x-python",
      "name": "python",
      "nbconvert_exporter": "python",
      "pygments_lexer": "ipython3",
      "version": "3.10.6"
    },
    "vscode": {
      "interpreter": {
        "hash": "8c9633a17b365be5c489ea821428a0c08f061379059d220dd0e48debd416cab6"
      }
    }
  },
  "nbformat": 4,
  "nbformat_minor": 0
}
